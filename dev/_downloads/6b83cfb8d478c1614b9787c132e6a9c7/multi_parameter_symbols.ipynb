{
  "cells": [
    {
      "cell_type": "code",
      "execution_count": null,
      "metadata": {
        "collapsed": false
      },
      "outputs": [],
      "source": [
        "%matplotlib inline"
      ]
    },
    {
      "cell_type": "markdown",
      "metadata": {},
      "source": [
        "\n# Multi-parameter symbols\n\nThe :meth:`pygmt.Figure.plot` method can plot individual multi-parameter\nsymbols by passing the corresponding shortcuts listed below to the ``style``\nparameter. Additionally, we must define the required parameters in a 2d list or\nnumpy array (``[[parameters]]`` for a single symbol or\n``[[parameters_1],[parameters_2],[parameters_i]]`` for several ones) or use an\nappropriately formatted input file and pass it to ``data``.\n\nThe following symbols are available:\n\n- **e**: ellipse, ``[[lon, lat, direction, major_axis, minor_axis]]``\n- **j**: rotated rectangle, ``[[lon, lat, direction, width, height]]``\n- **r**: rectangle, ``[[lon, lat, width, height]]``\n- **R**: rounded rectangle, ``[[lon, lat, width, height, radius]]``\n- **w**: pie wedge, ``[[lon, lat, radius, startdir, stopdir]]``, the last two\n  arguments are directions given in degrees counter-clockwise from horizontal\n\nUpper-case versions **E**, **J**, and **W** are similar to **e**, **j** and\n**w** but expect geographic azimuths and distances.\n"
      ]
    },
    {
      "cell_type": "code",
      "execution_count": null,
      "metadata": {
        "collapsed": false
      },
      "outputs": [],
      "source": [
        "import pygmt\n\nfig = pygmt.Figure()\nfig.basemap(region=[0, 6, 0, 2], projection=\"x3c\", frame=True)\n\n# ELLIPSE\ndata = [[0.5, 1, 45, 3, 1]]\nfig.plot(data=data, style=\"e\", color=\"orange\", pen=\"2p,black\")\n\n# ROTATED RECTANGLE\ndata = [[1.5, 1, 120, 5, 0.5]]\nfig.plot(data=data, style=\"j\", color=\"red3\", pen=\"2p,black\")\n\n# RECTANGLE\ndata = [[3, 1, 4, 1.5]]\nfig.plot(data=data, style=\"r\", color=\"dodgerblue\", pen=\"2p,black\")\n\n# ROUNDED RECTANGLE\ndata = [[4.5, 1, 1.25, 4, 0.5]]\nfig.plot(data=data, style=\"R\", color=\"seagreen\", pen=\"2p,black\")\n\n# PIE WEDGE\ndata = [[5.5, 1, 2.5, 45, 330]]\nfig.plot(data=data, style=\"w\", color=\"lightgray\", pen=\"2p,black\")\n\nfig.show()"
      ]
    }
  ],
  "metadata": {
    "kernelspec": {
      "display_name": "Python 3",
      "language": "python",
      "name": "python3"
    },
    "language_info": {
      "codemirror_mode": {
        "name": "ipython",
        "version": 3
      },
      "file_extension": ".py",
      "mimetype": "text/x-python",
      "name": "python",
      "nbconvert_exporter": "python",
      "pygments_lexer": "ipython3",
      "version": "3.9.2"
    }
  },
  "nbformat": 4,
  "nbformat_minor": 0
}